{
  "nbformat": 4,
  "nbformat_minor": 0,
  "metadata": {
    "colab": {
      "name": "one pixel attack.ipynb",
      "provenance": [],
      "collapsed_sections": [],
      "authorship_tag": "ABX9TyPbBSadEgy1f3GfySONAPFf",
      "include_colab_link": true
    },
    "kernelspec": {
      "name": "python3",
      "display_name": "Python 3"
    },
    "accelerator": "GPU"
  },
  "cells": [
    {
      "cell_type": "markdown",
      "metadata": {
        "id": "view-in-github",
        "colab_type": "text"
      },
      "source": [
        "<a href=\"https://colab.research.google.com/github/manncodes/Avinashak-Crime-prediction/blob/master/one_pixel_attack.ipynb\" target=\"_parent\"><img src=\"https://colab.research.google.com/assets/colab-badge.svg\" alt=\"Open In Colab\"/></a>"
      ]
    },
    {
      "cell_type": "code",
      "metadata": {
        "colab": {
          "base_uri": "https://localhost:8080/"
        },
        "id": "8su36K6NmAxR",
        "outputId": "b212e5fb-eb02-4a39-b84e-bbe765ab0871"
      },
      "source": [
        "# !pip install tensorboardX\r\n",
        "# !pip install torchvision"
      ],
      "execution_count": 3,
      "outputs": [
        {
          "output_type": "stream",
          "text": [
            "Requirement already satisfied: torchvision in /usr/local/lib/python3.6/dist-packages (0.8.1+cu101)\n",
            "Requirement already satisfied: numpy in /usr/local/lib/python3.6/dist-packages (from torchvision) (1.19.5)\n",
            "Requirement already satisfied: pillow>=4.1.1 in /usr/local/lib/python3.6/dist-packages (from torchvision) (7.0.0)\n",
            "Requirement already satisfied: torch==1.7.0 in /usr/local/lib/python3.6/dist-packages (from torchvision) (1.7.0+cu101)\n",
            "Requirement already satisfied: dataclasses in /usr/local/lib/python3.6/dist-packages (from torch==1.7.0->torchvision) (0.8)\n",
            "Requirement already satisfied: future in /usr/local/lib/python3.6/dist-packages (from torch==1.7.0->torchvision) (0.16.0)\n",
            "Requirement already satisfied: typing-extensions in /usr/local/lib/python3.6/dist-packages (from torch==1.7.0->torchvision) (3.7.4.3)\n"
          ],
          "name": "stdout"
        }
      ]
    },
    {
      "cell_type": "code",
      "metadata": {
        "id": "MjRZFvJ_kZLj"
      },
      "source": [
        "import matplotlib.pyplot as plt\r\n",
        "import numpy as np\r\n",
        "import seaborn as sns\r\n",
        "import torch\r\n",
        "import torch.nn as nn\r\n",
        "import torch.nn.functional as F\r\n",
        "import torch.optim as optim\r\n",
        "\r\n",
        "from pathlib import Path\r\n",
        "from tensorboardX import SummaryWriter\r\n",
        "from torchvision import datasets, transforms, models\r\n",
        "from tqdm import tqdm\r\n",
        "\r\n",
        "writer = SummaryWriter()\r\n",
        "sns.set()\r\n",
        "sns.set_style(\"dark\")\r\n",
        "sns.set_palette(\"muted\")\r\n",
        "sns.set_color_codes(\"muted\")\r\n",
        "\r\n",
        "%matplotlib inline"
      ],
      "execution_count": 4,
      "outputs": []
    },
    {
      "cell_type": "code",
      "metadata": {
        "colab": {
          "base_uri": "https://localhost:8080/"
        },
        "id": "43XXiGBhmJkI",
        "outputId": "017a38ea-a6de-4819-9aa5-a1dc5e92bd37"
      },
      "source": [
        "DEVICE = torch.device(\"cuda\" if torch.cuda.is_available() else \"cpu\")\r\n",
        "LOADER_KWARGS = {'num_workers': 1, 'pin_memory': True} if torch.cuda.is_available() else {'num_workers': 4}\r\n",
        "print(\"CUDA Available:\", torch.cuda.is_available())"
      ],
      "execution_count": 5,
      "outputs": [
        {
          "output_type": "stream",
          "text": [
            "CUDA Available: True\n"
          ],
          "name": "stdout"
        }
      ]
    },
    {
      "cell_type": "code",
      "metadata": {
        "id": "5aZP_glRmRKw"
      },
      "source": [
        "cifar_model = model.vgg16(pretrained=True,init_weight=False)\r\n",
        "cifar_model.classifier = nn.Sequential(\r\n",
        "    nn.Linear(512,2048),\r\n",
        "    nn.ReLU(True),\r\n",
        "    nn.Dropout(),\r\n",
        "    nn.Linear(2048,2048),\r\n",
        "    nn.ReLU(True),\r\n",
        "    nn.Dropout(),\r\n",
        "    nn.Linear(2048,10),\r\n",
        ")\r\n",
        "cifar_model = cifar_model.to(DEVICE)"
      ],
      "execution_count": null,
      "outputs": []
    }
  ]
}